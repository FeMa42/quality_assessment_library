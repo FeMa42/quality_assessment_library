{
 "cells": [
  {
   "cell_type": "markdown",
   "metadata": {},
   "source": [
    "## Metrics- Config Script"
   ]
  },
  {
   "cell_type": "code",
   "execution_count": null,
   "metadata": {},
   "outputs": [],
   "source": [
    "from metrics.metrics_eval import process_metrics_by_viewpoint\n",
    "\n",
    "gt_folder = \"example_data/Meshfleet_Eval/GT_test\"\n",
    "gen_folder = \"example_data/Meshfleet_Eval/Results_Test\"\n",
    "cfg_path  = \"example_data/Meshfleet_Eval/config_small.json\"\n",
    "\n",
    "metrics_result = process_metrics_by_viewpoint(\n",
    "    ground_truth_folder=gt_folder,\n",
    "    generated_folder=gen_folder,\n",
    "    device=\"cuda\",\n",
    "    config_path=cfg_path,\n",
    ")\n",
    "\n",
    "import json\n",
    "print(json.dumps(metrics_result, indent=2))"
   ]
  },
  {
   "cell_type": "markdown",
   "metadata": {},
   "source": [
    "### Write results into json file"
   ]
  },
  {
   "cell_type": "code",
   "execution_count": null,
   "metadata": {},
   "outputs": [],
   "source": [
    "import os\n",
    "from metrics.metrics_eval import process_metrics_by_viewpoint, tensor_to_serializable, json_file_to_combined_table\n",
    "json_output = json.dumps(tensor_to_serializable(metrics_result), indent=4)\n",
    "\n",
    "# Save the results in a JSON file in the root folder.\n",
    "output_file = os.path.join(os.path.dirname(gt_folder), \"metrics_results_config_test.json\")\n",
    "with open(output_file, 'w') as f:\n",
    "    f.write(json_output)\n",
    "\n",
    "print(f\"Metrics saved to {output_file}\")"
   ]
  }
 ],
 "metadata": {
  "kernelspec": {
   "display_name": "Quality_venv",
   "language": "python",
   "name": "python3"
  },
  "language_info": {
   "codemirror_mode": {
    "name": "ipython",
    "version": 3
   },
   "file_extension": ".py",
   "mimetype": "text/x-python",
   "name": "python",
   "nbconvert_exporter": "python",
   "pygments_lexer": "ipython3",
   "version": "3.11.8"
  }
 },
 "nbformat": 4,
 "nbformat_minor": 2
}
