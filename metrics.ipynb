{
 "cells": [
  {
   "cell_type": "markdown",
   "metadata": {},
   "source": [
    "# General Metrics"
   ]
  },
  {
   "cell_type": "code",
   "execution_count": null,
   "metadata": {},
   "outputs": [],
   "source": [
    "import os \n",
    "import glob\n",
    "import PIL.Image\n",
    "from typing import List, Optional, Union\n",
    "import numpy as np\n",
    "import torch\n",
    "from metrics.metrics import Metrics, preprocess_image\n",
    "\n",
    "device = \"cuda\" if torch.cuda.is_available() else \"cpu\"\n",
    "test_image_dir = \"example_data/2c21b97ff3dc4fc3b1ef9e4bb0164318\"\n",
    "\n",
    "def load_images_from_dir(image_dir: str):\n",
    "    \"\"\"\n",
    "    Load all images from a directory and return them as a tensor with shape (num_frames, channels, height, width)\n",
    "    \"\"\"\n",
    "    all_images = glob.glob(os.path.join(image_dir, \"*.png\"))\n",
    "    all_images = [preprocess_image(PIL.Image.open(image)) for image in all_images]\n",
    "    torch_image_tensor = torch.tensor(np.array(all_images), dtype=torch.float32)\n",
    "    # (num_frames, channels, height, width)\n",
    "    torch_image_tensor = torch_image_tensor.permute(0, 3, 1, 2)\n",
    "    target = torch_image_tensor.to(device)\n",
    "    return target"
   ]
  },
  {
   "cell_type": "code",
   "execution_count": null,
   "metadata": {},
   "outputs": [],
   "source": [
    "# create metrics object\n",
    "metrics = Metrics(device=device)\n",
    "# load images\n",
    "target = load_images_from_dir(test_image_dir)"
   ]
  },
  {
   "cell_type": "code",
   "execution_count": null,
   "metadata": {},
   "outputs": [],
   "source": [
    "# compute metrics for 2 example runs with small noise\n",
    "for i in range(2):\n",
    "    input = target + torch.randn_like(target) * 0.001\n",
    "    input = torch.clamp(input, 0, 1).to(device)\n",
    "    metrics.compute_image(input, target)\n",
    "metrics.get_total_metrics()"
   ]
  }
 ],
 "metadata": {
  "kernelspec": {
   "display_name": "vlm",
   "language": "python",
   "name": "python3"
  },
  "language_info": {
   "codemirror_mode": {
    "name": "ipython",
    "version": 3
   },
   "file_extension": ".py",
   "mimetype": "text/x-python",
   "name": "python",
   "nbconvert_exporter": "python",
   "pygments_lexer": "ipython3",
   "version": "3.10.14"
  }
 },
 "nbformat": 4,
 "nbformat_minor": 2
}
