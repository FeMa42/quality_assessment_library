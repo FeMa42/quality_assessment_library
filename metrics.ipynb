{
 "cells": [
  {
   "cell_type": "code",
   "execution_count": 1,
   "metadata": {},
   "outputs": [],
   "source": [
    "import logging\n",
    "logging.getLogger().setLevel(logging.ERROR)\n",
    "import os \n",
    "import glob\n",
    "from PIL import Image\n",
    "from typing import List, Optional, Union\n",
    "import numpy as np\n",
    "import torch\n",
    "from metrics.metrics import Metrics, GeometryMetrics, preprocess_image, preprocess_image_rgba, process_folder_new\n",
    "import json\n",
    "import pandas as pd\n",
    "\n",
    "device = \"cuda\" if torch.cuda.is_available() else \"cpu\""
   ]
  },
  {
   "cell_type": "markdown",
   "metadata": {},
   "source": [
    "## Compute Metrics for one folder pair"
   ]
  },
  {
   "cell_type": "code",
   "execution_count": 10,
   "metadata": {},
   "outputs": [],
   "source": [
    "original_folder = \"example_data/GT_Test/0ae696bd837219e784b8b7979807184decd5abdb813f0fd7bbfbf6a82bdcc798\"\n",
    "generated_folder = \"example_data/Res_Test/0ae696bd837219e784b8b7979807184decd5abdb813f0fd7bbfbf6a82bdcc798\""
   ]
  },
  {
   "cell_type": "markdown",
   "metadata": {},
   "source": [
    "### Compute Semantic/Quality Metrics\n",
    "- For evaluations with very small sample size (n<20), set *compute_distribution_metrics = False* as FID & KID require a minimum of 20 samples to be computed"
   ]
  },
  {
   "cell_type": "code",
   "execution_count": 11,
   "metadata": {},
   "outputs": [
    {
     "name": "stdout",
     "output_type": "stream",
     "text": [
      "Semantic Metrics:\n",
      "MSE: 1338.7757568359375\n",
      "CLIP-S: 0.8881114721298218\n",
      "Spectral_MSE: 129912832.0\n",
      "D_lambda: 277856960.0\n",
      "ERGAS: 1.7582569122314453\n",
      "PSNR: 23.871440887451172\n",
      "RASE: 294.625244140625\n",
      "RMSE_wind: 7.454418182373047\n",
      "SAM: 0.004716605879366398\n",
      "MS-SSIM: 0.9451460838317871\n",
      "SSIM: 0.9532877206802368\n",
      "UQI: -707163904.0\n",
      "VIF: 0.0716453567147255\n",
      "LPIPS: 0.024912722408771515\n",
      "SCC: -0.0031660806853324175\n"
     ]
    }
   ],
   "source": [
    "semantic_metrics = process_folder_new(\n",
    "    original_folder=original_folder,\n",
    "    generated_folder=generated_folder,\n",
    "    preprocess_func=preprocess_image,  \n",
    "    metric_class=Metrics,\n",
    "    device=\"cuda\",  \n",
    "    compute_distribution_metrics=False  \n",
    ")\n",
    "print(\"Semantic Metrics:\")\n",
    "for k, v in semantic_metrics.items():\n",
    "    print(f\"{k}: {v}\")\n"
   ]
  },
  {
   "cell_type": "markdown",
   "metadata": {},
   "source": [
    "### Compute Geometric Evaluation Metrics"
   ]
  },
  {
   "cell_type": "code",
   "execution_count": 12,
   "metadata": {},
   "outputs": [
    {
     "name": "stdout",
     "output_type": "stream",
     "text": [
      "Geometry Metrics:\n",
      "Rel_BB_Aspect_Ratio_Diff: 10.64\n",
      "Rel_Pixel_Area_Diff: 0.12734227006205978\n",
      "Outline_Normals_Angle_Diff: 14.794582930119809\n",
      "Squared_Outline_Normals_Angle_Diff: 12.865086102571496\n",
      "Summed_Outline_Normals_Angle_Diff: 17.751247221891784\n",
      "Squared_Summed_Outline_Normals_Angle_Diff: 10.507682960998826\n",
      "Image_Pairs: 2\n"
     ]
    }
   ],
   "source": [
    "# For geometry metrics:\n",
    "geometry_metrics = process_folder_new(\n",
    "    original_folder=original_folder,\n",
    "    generated_folder=generated_folder,\n",
    "    preprocess_func=preprocess_image_rgba,  \n",
    "    metric_class=GeometryMetrics,\n",
    "    num_points=100  \n",
    ")\n",
    "print(\"Geometry Metrics:\")\n",
    "for k, v in geometry_metrics.items():\n",
    "    print(f\"{k}: {v}\")"
   ]
  },
  {
   "cell_type": "markdown",
   "metadata": {},
   "source": [
    "## Compute Metrics for multiple combinations"
   ]
  },
  {
   "cell_type": "code",
   "execution_count": null,
   "metadata": {},
   "outputs": [],
   "source": [
    "from metrics.metrics_eval import process_metrics_by_viewpoint, tensor_to_serializable, json_file_to_combined_table"
   ]
  },
  {
   "cell_type": "markdown",
   "metadata": {},
   "source": [
    "### Compute Metrics for a subfolder"
   ]
  },
  {
   "cell_type": "code",
   "execution_count": null,
   "metadata": {},
   "outputs": [
    {
     "name": "stdout",
     "output_type": "stream",
     "text": [
      "Processing viewpoint: 000.png\n",
      "{'MSE': tensor(1075.3264, device='cuda:0'), 'CLIP-S': tensor(0.8792, device='cuda:0'), 'Spectral_MSE': tensor(1.2166e+08, device='cuda:0'), 'D_lambda': tensor(2.0323e+08, device='cuda:0'), 'ERGAS': tensor(1.6201, device='cuda:0'), 'PSNR': tensor(24.2075, device='cuda:0'), 'RASE': tensor(inf, device='cuda:0'), 'RMSE_wind': tensor(5.9141, device='cuda:0'), 'SAM': tensor(0.0073, device='cuda:0'), 'MS-SSIM': tensor(0.9620, device='cuda:0'), 'SSIM': tensor(0.9639, device='cuda:0'), 'UQI': tensor(-5.7838e+08, device='cuda:0'), 'VIF': tensor(0.0737, device='cuda:0'), 'LPIPS': tensor(0.0161, device='cuda:0'), 'SCC': tensor(-0.0005, device='cuda:0'), 'FID': tensor(0.0222, device='cuda:0'), 'IS': tensor(3.0257, device='cuda:0'), 'KID': tensor(0.0892, device='cuda:0')}\n",
      "{'Rel_BB_Aspect_Ratio_Diff': 9.087826086956522, 'Rel_Pixel_Area_Diff': 0.14957479350625022, 'Outline_Normals_Angle_Diff': 17.288357190070506, 'Squared_Outline_Normals_Angle_Diff': 13.696884473782239, 'Summed_Outline_Normals_Angle_Diff': 66.88517412187063, 'Squared_Summed_Outline_Normals_Angle_Diff': 6.01941277344398, 'Image_Pairs': 23}\n",
      "Processing viewpoint: 001.png\n",
      "{'MSE': tensor(2463.9133, device='cuda:0'), 'CLIP-S': tensor(0.8460, device='cuda:0'), 'Spectral_MSE': tensor(2.7623e+08, device='cuda:0'), 'D_lambda': tensor(2.9901e+08, device='cuda:0'), 'ERGAS': tensor(2.5073, device='cuda:0'), 'PSNR': tensor(20.4750, device='cuda:0'), 'RASE': tensor(inf, device='cuda:0'), 'RMSE_wind': tensor(10.6671, device='cuda:0'), 'SAM': tensor(0.0105, device='cuda:0'), 'MS-SSIM': tensor(0.9189, device='cuda:0'), 'SSIM': tensor(0.9428, device='cuda:0'), 'UQI': tensor(-7.6378e+08, device='cuda:0'), 'VIF': tensor(0.0366, device='cuda:0'), 'LPIPS': tensor(0.0312, device='cuda:0'), 'SCC': tensor(0.0008, device='cuda:0'), 'FID': tensor(0.0974, device='cuda:0'), 'IS': tensor(3.5194, device='cuda:0'), 'KID': tensor(0.1168, device='cuda:0')}\n",
      "{'Rel_BB_Aspect_Ratio_Diff': 5.043913043478261, 'Rel_Pixel_Area_Diff': 0.24407617116043856, 'Outline_Normals_Angle_Diff': 17.561951147761587, 'Squared_Outline_Normals_Angle_Diff': 15.044568644374772, 'Summed_Outline_Normals_Angle_Diff': 34.191324330289646, 'Squared_Summed_Outline_Normals_Angle_Diff': 3.1509114612992257, 'Image_Pairs': 23}\n",
      "Processing viewpoint: 002.png\n",
      "{'MSE': tensor(3174.2588, device='cuda:0'), 'CLIP-S': tensor(0.8398, device='cuda:0'), 'Spectral_MSE': tensor(3.6766e+08, device='cuda:0'), 'D_lambda': tensor(3.3363e+08, device='cuda:0'), 'ERGAS': tensor(2.8644, device='cuda:0'), 'PSNR': tensor(19.4518, device='cuda:0'), 'RASE': tensor(inf, device='cuda:0'), 'RMSE_wind': tensor(13.1801, device='cuda:0'), 'SAM': tensor(0.0129, device='cuda:0'), 'MS-SSIM': tensor(0.8999, device='cuda:0'), 'SSIM': tensor(0.9310, device='cuda:0'), 'UQI': tensor(-8.8675e+08, device='cuda:0'), 'VIF': tensor(0.0365, device='cuda:0'), 'LPIPS': tensor(0.0385, device='cuda:0'), 'SCC': tensor(0.0002, device='cuda:0'), 'FID': tensor(0.1607, device='cuda:0'), 'IS': tensor(3.8146, device='cuda:0'), 'KID': tensor(0.0241, device='cuda:0')}\n",
      "{'Rel_BB_Aspect_Ratio_Diff': 6.325652173913044, 'Rel_Pixel_Area_Diff': 0.26055484919990585, 'Outline_Normals_Angle_Diff': 16.267140261723245, 'Squared_Outline_Normals_Angle_Diff': 13.43391320673096, 'Summed_Outline_Normals_Angle_Diff': 29.838536890316394, 'Squared_Summed_Outline_Normals_Angle_Diff': 2.1548154095510976, 'Image_Pairs': 23}\n",
      "Processing viewpoint: 003.png\n",
      "{'MSE': tensor(3039.7241, device='cuda:0'), 'CLIP-S': tensor(0.8135, device='cuda:0'), 'Spectral_MSE': tensor(3.5272e+08, device='cuda:0'), 'D_lambda': tensor(3.6099e+08, device='cuda:0'), 'ERGAS': tensor(2.7892, device='cuda:0'), 'PSNR': tensor(19.7829, device='cuda:0'), 'RASE': tensor(inf, device='cuda:0'), 'RMSE_wind': tensor(13.3121, device='cuda:0'), 'SAM': tensor(0.0142, device='cuda:0'), 'MS-SSIM': tensor(0.8990, device='cuda:0'), 'SSIM': tensor(0.9282, device='cuda:0'), 'UQI': tensor(-9.6940e+08, device='cuda:0'), 'VIF': tensor(0.0388, device='cuda:0'), 'LPIPS': tensor(0.0380, device='cuda:0'), 'SCC': tensor(0.0002, device='cuda:0'), 'FID': tensor(0.1748, device='cuda:0'), 'IS': tensor(3.9660, device='cuda:0'), 'KID': tensor(0.0076, device='cuda:0')}\n",
      "{'Rel_BB_Aspect_Ratio_Diff': 4.158695652173913, 'Rel_Pixel_Area_Diff': 0.23723033942977997, 'Outline_Normals_Angle_Diff': 15.588665035739243, 'Squared_Outline_Normals_Angle_Diff': 13.522539274574905, 'Summed_Outline_Normals_Angle_Diff': 47.541555563974896, 'Squared_Summed_Outline_Normals_Angle_Diff': 2.099678823566357, 'Image_Pairs': 23}\n",
      "Processing viewpoint: 004.png\n",
      "{'MSE': tensor(3288.8540, device='cuda:0'), 'CLIP-S': tensor(0.7999, device='cuda:0'), 'Spectral_MSE': tensor(3.8997e+08, device='cuda:0'), 'D_lambda': tensor(3.4502e+08, device='cuda:0'), 'ERGAS': tensor(2.9211, device='cuda:0'), 'PSNR': tensor(19.3006, device='cuda:0'), 'RASE': tensor(inf, device='cuda:0'), 'RMSE_wind': tensor(13.6073, device='cuda:0'), 'SAM': tensor(0.0140, device='cuda:0'), 'MS-SSIM': tensor(0.8961, device='cuda:0'), 'SSIM': tensor(0.9290, device='cuda:0'), 'UQI': tensor(-8.9863e+08, device='cuda:0'), 'VIF': tensor(0.0346, device='cuda:0'), 'LPIPS': tensor(0.0414, device='cuda:0'), 'SCC': tensor(-0.0002, device='cuda:0'), 'FID': tensor(0.1458, device='cuda:0'), 'IS': tensor(3.7116, device='cuda:0'), 'KID': tensor(0.0045, device='cuda:0')}\n"
     ]
    }
   ],
   "source": [
    "gt_folder = \"example_data/Meshfleet_Eval/Ground_Truth\"\n",
    "gen_folder = \"example_data/Meshfleet_Eval/Results_000\"\n",
    "\n",
    "metrics_result = process_metrics_by_viewpoint(gt_folder, gen_folder, device=\"cuda\")\n",
    "json_output = json.dumps(tensor_to_serializable(metrics_result), indent=4)\n",
    "\n",
    "# Save the results in a JSON file in the root folder.\n",
    "output_file = os.path.join(os.path.dirname(gt_folder), \"metrics_results_000.json\")\n",
    "with open(output_file, 'w') as f:\n",
    "    f.write(json_output)\n",
    "\n",
    "print(f\"Metrics saved to {output_file}\")"
   ]
  },
  {
   "cell_type": "markdown",
   "metadata": {},
   "source": [
    "### Print metrics from json into a table"
   ]
  },
  {
   "cell_type": "code",
   "execution_count": 5,
   "metadata": {},
   "outputs": [
    {
     "name": "stdout",
     "output_type": "stream",
     "text": [
      "Combined Metrics Table:\n",
      "                                           generated_diagonal  generated_rear  generated_side  generated_front\n",
      "MSE                                              5.812658e+03    8.112500e+03    6.940686e+03     8.605097e+03\n",
      "CLIP-S                                           8.416202e-01    8.712273e-01    8.857163e-01     8.188758e-01\n",
      "Spectral_MSE                                     7.561047e+08    1.050878e+09    1.081315e+09     1.649161e+09\n",
      "D_lambda                                         2.626836e+07    5.425383e+07    8.047733e+07     4.349237e+07\n",
      "ERGAS                                            5.519731e+00    6.765961e+00    6.245296e+00     7.427383e+00\n",
      "PSNR                                             1.684072e+01    1.513758e+01    1.662191e+01     1.505695e+01\n",
      "RASE                                             6.154390e+03    2.959994e+03    4.383693e+03     1.101232e+04\n",
      "RMSE_wind                                        4.412012e+01    4.945400e+01    4.930652e+01     5.539342e+01\n",
      "SAM                                              1.400437e-02    2.165492e-02    1.245074e-02     1.194999e-02\n",
      "MS-SSIM                                          6.954779e-01    6.121782e-01    6.995607e-01     6.758379e-01\n",
      "SSIM                                             7.208234e-01    7.187279e-01    7.254374e-01     7.108805e-01\n",
      "UQI                                             -1.005316e+09   -1.001061e+09   -9.581103e+08    -9.952815e+08\n",
      "VIF                                              8.270338e-02    5.708813e-02    9.198678e-02     6.637263e-02\n",
      "LPIPS                                            1.132004e-01    1.341405e-01    1.109847e-01     1.272330e-01\n",
      "SCC                                              6.483533e-03    3.965348e-03    1.120211e-02     4.213592e-03\n",
      "Rel_BB_Aspect_Ratio_Diff                         2.117500e+00    4.805000e+00    1.700000e+00     3.645000e+00\n",
      "Rel_Pixel_Area_Diff                              1.571286e-02    4.351927e-02    1.382605e-02     4.256031e-02\n",
      "Outline_Normals_Angle_Diff                       6.010862e+00    8.037731e+00    6.482511e+00     7.383853e+00\n",
      "Squared_Outline_Normals_Angle_Diff               5.224132e+00    7.150381e+00    5.482755e+00     6.362221e+00\n",
      "Summed_Outline_Normals_Angle_Diff                4.501009e+01    2.516466e+01    4.478358e+01     4.320143e+01\n",
      "Squared_Summed_Outline_Normals_Angle_Diff        1.539191e+00    3.032488e+00    2.481285e+00     1.272324e+00\n",
      "Image_Pairs                                      4.000000e+00    4.000000e+00    4.000000e+00     4.000000e+00\n"
     ]
    }
   ],
   "source": [
    "json_filepath = \"example_data/examples_08082025/Car_Sample_2/scaled/metrics_results.json\"\n",
    "combined_df = json_file_to_combined_table(json_filepath)\n",
    "\n",
    "print(\"Combined Metrics Table:\")\n",
    "print(combined_df.to_string())\n"
   ]
  }
 ],
 "metadata": {
  "kernelspec": {
   "display_name": "Quality_venv",
   "language": "python",
   "name": "python3"
  },
  "language_info": {
   "codemirror_mode": {
    "name": "ipython",
    "version": 3
   },
   "file_extension": ".py",
   "mimetype": "text/x-python",
   "name": "python",
   "nbconvert_exporter": "python",
   "pygments_lexer": "ipython3",
   "version": "3.11.8"
  }
 },
 "nbformat": 4,
 "nbformat_minor": 2
}
