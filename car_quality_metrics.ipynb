{
 "cells": [
  {
   "cell_type": "markdown",
   "metadata": {},
   "source": [
    "# Car Quality Metrics"
   ]
  },
  {
   "cell_type": "markdown",
   "metadata": {},
   "source": [
    "## Estimate the Quality using the Loaded Classifier"
   ]
  },
  {
   "cell_type": "code",
   "execution_count": 1,
   "metadata": {},
   "outputs": [],
   "source": [
    "import os\n",
    "import glob\n",
    "import PIL.Image\n",
    "import numpy as np\n",
    "import torch\n",
    "from car_quality_estimator.car_quality_metric import load_car_quality_score\n",
    "\n",
    "test_image_dir = \"example_data/2c21b97ff3dc4fc3b1ef9e4bb0164318\"\n",
    "car_quality_metric = load_car_quality_score(use_combined_embedding_model=True)"
   ]
  },
  {
   "cell_type": "code",
   "execution_count": 2,
   "metadata": {},
   "outputs": [],
   "source": [
    "# load all images from the test directory and store the PIL images in a list\n",
    "all_images = glob.glob(os.path.join(test_image_dir, \"*.png\"))\n",
    "all_images = [PIL.Image.open(image).convert(\"RGB\") for image in all_images]\n",
    "reference_batch = all_images\n",
    "\n",
    "# let's generate some distorted views using Gaussian noise\n",
    "def create_noised_image(image_list):\n",
    "    all_images_np = np.array(image_list) / 255.0\n",
    "    all_images_distorted_np  = all_images_np + np.random.randn(*all_images_np.shape) * 0.05\n",
    "    all_images_distorted_np = np.clip(all_images_distorted_np, 0, 1)\n",
    "    all_images_distorted_pil = [PIL.Image.fromarray((img * 255).astype(np.uint8)) for img in all_images_distorted_np]\n",
    "    return all_images_distorted_pil\n",
    "generated_views = create_noised_image(reference_batch)"
   ]
  },
  {
   "cell_type": "code",
   "execution_count": null,
   "metadata": {},
   "outputs": [],
   "source": [
    "# Quality score with reference images\n",
    "car_quality_metric.compute_scores_no_reference(generated_views)"
   ]
  },
  {
   "cell_type": "code",
   "execution_count": null,
   "metadata": {},
   "outputs": [],
   "source": [
    "# Quality score with reference images\n",
    "car_quality_metric.compare_with_reference(\n",
    "    generated_views, reference_batch, compute_kid=True)"
   ]
  }
 ],
 "metadata": {
  "kernelspec": {
   "display_name": "vlm",
   "language": "python",
   "name": "python3"
  },
  "language_info": {
   "codemirror_mode": {
    "name": "ipython",
    "version": 3
   },
   "file_extension": ".py",
   "mimetype": "text/x-python",
   "name": "python",
   "nbconvert_exporter": "python",
   "pygments_lexer": "ipython3",
   "version": "3.10.14"
  }
 },
 "nbformat": 4,
 "nbformat_minor": 2
}
