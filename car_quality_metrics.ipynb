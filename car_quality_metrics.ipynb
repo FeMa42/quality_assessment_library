{
 "cells": [
  {
   "cell_type": "markdown",
   "metadata": {},
   "source": [
    "# Car Quality Metrics"
   ]
  },
  {
   "cell_type": "markdown",
   "metadata": {},
   "source": [
    "## Load the Classifier from Huggingface"
   ]
  },
  {
   "cell_type": "code",
   "execution_count": 1,
   "metadata": {},
   "outputs": [
    {
     "name": "stderr",
     "output_type": "stream",
     "text": [
      "/mnt/damian/miniconda3/envs/qa_lib/lib/python3.10/site-packages/tqdm/auto.py:21: TqdmWarning: IProgress not found. Please update jupyter and ipywidgets. See https://ipywidgets.readthedocs.io/en/stable/user_install.html\n",
      "  from .autonotebook import tqdm as notebook_tqdm\n",
      "Fetching 7 files: 100%|██████████| 7/7 [00:03<00:00,  2.06it/s]"
     ]
    },
    {
     "name": "stdout",
     "output_type": "stream",
     "text": [
      "Repository downloaded to: /mnt/damian/Projects/quality_assessment_library/models\n"
     ]
    },
    {
     "name": "stderr",
     "output_type": "stream",
     "text": [
      "\n"
     ]
    }
   ],
   "source": [
    "from huggingface_hub import snapshot_download\n",
    "import os\n",
    "\n",
    "# Create models directory if it doesn't exist\n",
    "os.makedirs(\"./models\", exist_ok=True)\n",
    "\n",
    "# Download the entire repository\n",
    "repo_path = snapshot_download(\n",
    "    repo_id=\"DamianBoborzi/CarQualityEstimator\",\n",
    "    local_dir=\"./models\",  # Where to save the files\n",
    "    revision=\"main\",  # Specific branch, tag, or commit (optional)\n",
    "    repo_type=\"model\",  # Can be \"model\", \"dataset\", or \"space\"\n",
    "    ignore_patterns=[\"*.safetensors\", \"*.bin\", \"*.onnx\"],  # Optional: patterns to ignore\n",
    ")\n",
    "print(f\"Repository downloaded to: {repo_path}\")"
   ]
  },
  {
   "cell_type": "markdown",
   "metadata": {},
   "source": [
    "## Estimate the Quality using the Loaded Classifier"
   ]
  },
  {
   "cell_type": "code",
   "execution_count": 2,
   "metadata": {},
   "outputs": [
    {
     "name": "stderr",
     "output_type": "stream",
     "text": [
      "/mnt/damian/miniconda3/envs/qa_lib/lib/python3.10/site-packages/huggingface_hub/file_download.py:1132: FutureWarning: `resume_download` is deprecated and will be removed in version 1.0.0. Downloads always resume when possible. If you want to force a new download, use `force_download=True`.\n",
      "  warnings.warn(\n"
     ]
    }
   ],
   "source": [
    "import os\n",
    "import glob\n",
    "import PIL.Image\n",
    "import numpy as np\n",
    "import torch\n",
    "from car_quality_estimator.car_quality_metric import load_car_quality_score\n",
    "\n",
    "test_image_dir = \"example_data/2c21b97ff3dc4fc3b1ef9e4bb0164318\"\n",
    "\n",
    "car_quality_metric = load_car_quality_score(\n",
    "    model_dir=\"./models/\", use_combined_embedding_model=True)"
   ]
  },
  {
   "cell_type": "code",
   "execution_count": 3,
   "metadata": {},
   "outputs": [],
   "source": [
    "# load all images from the test directory and store the PIL images in a list\n",
    "all_images = glob.glob(os.path.join(test_image_dir, \"*.png\"))\n",
    "all_images = [PIL.Image.open(image).convert(\"RGB\") for image in all_images]\n",
    "reference_batch = all_images\n",
    "\n",
    "# let's generate some distorted views using Gaussian noise\n",
    "def create_noised_image(image_list):\n",
    "    all_images_np = np.array(image_list) / 255.0\n",
    "    all_images_distorted_np  = all_images_np + np.random.randn(*all_images_np.shape) * 0.05\n",
    "    all_images_distorted_np = np.clip(all_images_distorted_np, 0, 1)\n",
    "    all_images_distorted_pil = [PIL.Image.fromarray((img * 255).astype(np.uint8)) for img in all_images_distorted_np]\n",
    "    return all_images_distorted_pil\n",
    "generated_views = create_noised_image(reference_batch)"
   ]
  },
  {
   "cell_type": "code",
   "execution_count": 4,
   "metadata": {},
   "outputs": [
    {
     "data": {
      "text/plain": [
       "{'avg_quality_score': 0.1261815,\n",
       " 'avg_entropy': 0.035618205,\n",
       " 'avg_combined_score': 0.11513408,\n",
       " 'quality_std': 0.31424034,\n",
       " 'num_samples': 21}"
      ]
     },
     "execution_count": 4,
     "metadata": {},
     "output_type": "execute_result"
    }
   ],
   "source": [
    "# Quality score with reference images\n",
    "car_quality_metric.compute_scores_no_reference(generated_views)"
   ]
  },
  {
   "cell_type": "code",
   "execution_count": 5,
   "metadata": {},
   "outputs": [
    {
     "data": {
      "text/plain": [
       "{'generated_metrics': {'avg_quality_score': 0.1261815,\n",
       "  'avg_entropy': 0.035618205,\n",
       "  'avg_combined_score': 0.11513408,\n",
       "  'quality_std': 0.31424034,\n",
       "  'num_samples': 21},\n",
       " 'reference_metrics': {'avg_quality_score': 0.2371547,\n",
       "  'avg_entropy': 0.022427782,\n",
       "  'avg_combined_score': 0.2318413,\n",
       "  'quality_std': 0.4200647,\n",
       "  'num_samples': 21},\n",
       " 'quality_gap': 0.11097321,\n",
       " 'score_distribution_metrics': {'kl_divergence_kde': 0.014065147549108535,\n",
       "  'jensen_shannon_distance': 0.5215422974967783,\n",
       "  'wasserstein_distance': 0.11097319137672693},\n",
       " 'kid_metrics': {'kid_score': 29527.461383928574,\n",
       "  'n_gen_samples': 21,\n",
       "  'n_ref_samples': 21}}"
      ]
     },
     "execution_count": 5,
     "metadata": {},
     "output_type": "execute_result"
    }
   ],
   "source": [
    "# Quality score with reference images\n",
    "car_quality_metric.compare_with_reference(\n",
    "    generated_views, reference_batch, compute_kid=True)"
   ]
  }
 ],
 "metadata": {
  "kernelspec": {
   "display_name": "vlm",
   "language": "python",
   "name": "python3"
  },
  "language_info": {
   "codemirror_mode": {
    "name": "ipython",
    "version": 3
   },
   "file_extension": ".py",
   "mimetype": "text/x-python",
   "name": "python",
   "nbconvert_exporter": "python",
   "pygments_lexer": "ipython3",
   "version": "3.10.16"
  }
 },
 "nbformat": 4,
 "nbformat_minor": 2
}
