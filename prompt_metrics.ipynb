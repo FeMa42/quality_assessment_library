{
    "cells": [
        {
            "cell_type": "markdown",
            "metadata": {},
            "source": [
                "## Metrics- Config Script"
            ]
        },
        {
            "cell_type": "code",
            "execution_count": 1,
            "metadata": {},
            "outputs": [
                {
                    "name": "stdout",
                    "output_type": "stream",
                    "text": [
                        "load checkpoint from /home/damian/.cache/ImageReward/ImageReward.pt\n",
                        "checkpoint loaded\n"
                    ]
                },
                {
                    "data": {
                        "text/plain": [
                            "{'clip_score': 5.9414, 'image_reward': -0.4058}"
                        ]
                    },
                    "execution_count": 1,
                    "metadata": {},
                    "output_type": "execute_result"
                }
            ],
            "source": [
                "from metrics.metrics import Metrics, GeometryMetrics, ImageBasedPromptEvaluator\n",
                "from metrics.helpers import preprocess_image, preprocess_image_rgba, process_folder_new\n",
                "from metrics.helpers import process_folder_with_prompt_files\n",
                "\n",
                "generated_folder = \"./example_data/0ae696bd837219e784b8b7979807184decd5abdb813f0fd7bbfbf6a82bdcc798\"\n",
                "image_scores = process_folder_with_prompt_files(\n",
                "    generated_folder=generated_folder,\n",
                "    preprocess_func=preprocess_image,\n",
                "    prompt_metric=ImageBasedPromptEvaluator() \n",
                ")\n",
                "image_scores"
            ]
        }
    ],
    "metadata": {
        "kernelspec": {
            "display_name": "trellis_qa",
            "language": "python",
            "name": "python3"
        },
        "language_info": {
            "codemirror_mode": {
                "name": "ipython",
                "version": 3
            },
            "file_extension": ".py",
            "mimetype": "text/x-python",
            "name": "python",
            "nbconvert_exporter": "python",
            "pygments_lexer": "ipython3",
            "version": "3.10.16"
        }
    },
    "nbformat": 4,
    "nbformat_minor": 2
}
