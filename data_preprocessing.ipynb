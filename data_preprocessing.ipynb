{
 "cells": [
  {
   "cell_type": "code",
   "execution_count": null,
   "metadata": {},
   "outputs": [],
   "source": [
    "import os\n",
    "import glob\n",
    "import numpy as np\n",
    "import cv2\n",
    "from PIL import Image\n",
    "import math\n",
    "\n",
    "import PIL\n",
    "from rembg import remove\n",
    "from preprocessing.image_processing import remove_background_from_folder, remove_background_recursive"
   ]
  },
  {
   "cell_type": "markdown",
   "metadata": {},
   "source": [
    "## Background Removal\n",
    "- Remove the background of the image and save image as RGBA without a background"
   ]
  },
  {
   "cell_type": "code",
   "execution_count": null,
   "metadata": {},
   "outputs": [],
   "source": [
    "target_folder = \"example_data/Meshfleet_Eval/Results_002\"\n",
    "remove_background_recursive(target_folder)"
   ]
  },
  {
   "cell_type": "markdown",
   "metadata": {},
   "source": [
    "## Front View Detection"
   ]
  },
  {
   "cell_type": "code",
   "execution_count": null,
   "metadata": {},
   "outputs": [],
   "source": [
    "import torch\n",
    "from preprocessing.image_processing import align_views, load_dino, load_dino_model, get_dino_transform, release_gpu\n",
    "# from transformers import InstructBlipProcessor, InstructBlipForConditionalGeneration\n",
    "\n",
    "device = \"cuda\" if torch.cuda.is_available() else \"cpu\"\n",
    "\n",
    "\"\"\"\n",
    "vlm_model = InstructBlipForConditionalGeneration.from_pretrained(\"Salesforce/instructblip-vicuna-7b\")\n",
    "vlm_processor = InstructBlipProcessor.from_pretrained(\"Salesforce/instructblip-vicuna-7b\")\n",
    "vlm_model.to(device)\n",
    "\"\"\"\n",
    "\n",
    "dino_model = load_dino(device)\n",
    "dino_transform = get_dino_transform(224)"
   ]
  },
  {
   "cell_type": "code",
   "execution_count": null,
   "metadata": {},
   "outputs": [],
   "source": [
    "gt_folder = \"example_data/Meshfleet_Eval/Ground_Truth\"\n",
    "generated_folder = \"example_data/Meshfleet_Eval/Results_002\"\n",
    "prompt = \"Is this a front view or a rear view?\"\n",
    "df = align_views(generated_folder, detection_mode=\"dino\", dino_model=dino_model, dino_transform=dino_transform, ground_truth_parent=gt_folder, device=device)"
   ]
  },
  {
   "cell_type": "markdown",
   "metadata": {},
   "source": [
    "## Equal Scaling\n",
    "- Adapt both images to equal scaling \n",
    "- Width of original image is set and generated images width is set to the same value while keeping the aspect ration fixed\n",
    "- Objects are maximized in the image"
   ]
  },
  {
   "cell_type": "markdown",
   "metadata": {},
   "source": [
    "### Equal Scaling for multiple folders\n",
    "- Folder Structure is:\n",
    "      ground_truth_parent/\n",
    "          <object_id_1>/\n",
    "              000.png, 001.png, ..., 011.png\n",
    "          <object_id_2>/\n",
    "              ...\n",
    "      generated_parent/\n",
    "          <object_id_1>/\n",
    "              000.png, 001.png, ..., 011.png\n",
    "          <object_id_2>/\n",
    "              ..."
   ]
  },
  {
   "cell_type": "code",
   "execution_count": null,
   "metadata": {},
   "outputs": [],
   "source": [
    "from preprocessing.image_processing import process_equal_scaling, process_equal_scaling_structure\n",
    "\n",
    "process_equal_scaling_structure(\n",
    "    ground_truth_parent=\"example_data/Meshfleet_Eval/Ground_Truth\",\n",
    "    generated_parent=\"example_data/Meshfleet_Eval/Results_002\",\n",
    "    canvas_size=(768,768),\n",
    "    fill_ratio=0.9\n",
    ")"
   ]
  },
  {
   "cell_type": "markdown",
   "metadata": {},
   "source": [
    "### Equal Scaling for a folder pair with no subfolders"
   ]
  },
  {
   "cell_type": "code",
   "execution_count": null,
   "metadata": {},
   "outputs": [],
   "source": [
    "original_folder = \"example_data/examples_08082025/Car_Sample_2/original\"\n",
    "generated_folder = \"example_data/examples_08082025/Car_Sample_2/generated_side\"\n",
    "\n",
    "out_original_folder = \"example_data/examples_08082025/Car_Sample_2/scaled/original\"\n",
    "out_generated_folder = \"example_data/examples_08082025/Car_Sample_2/scaled/generated_side\"\n",
    "\n",
    "process_equal_scaling(original_folder, generated_folder,\n",
    "                        out_original_folder, out_generated_folder,\n",
    "                        canvas_size=(768,768), fill_ratio=0.95)\n"
   ]
  },
  {
   "cell_type": "markdown",
   "metadata": {},
   "source": [
    "## Concatenate images into grid\n",
    "- Just for visualization"
   ]
  },
  {
   "cell_type": "code",
   "execution_count": null,
   "metadata": {},
   "outputs": [],
   "source": [
    "from preprocessing.image_processing import concatenate_images\n",
    "\n",
    "output_file_name = \"concatenated1.png\"\n",
    "concatenate_images(\n",
    "    \"/home/q613871/Projects/Trellis_Playground/TRELLIS/assets/Meshfleet_Eval/Results_006\", \n",
    "    output_image=output_file_name, \n",
    "    rows = 2, \n",
    "    target_identifier = \"000.png\",\n",
    "    crop_width_percent=30,\n",
    "    crop_height_percent=50)"
   ]
  },
  {
   "cell_type": "markdown",
   "metadata": {},
   "source": [
    "## Manual Image Reordering\n",
    "- Can be used to manually restructure a subfolder --> Given index will be set as the new 000.png"
   ]
  },
  {
   "cell_type": "code",
   "execution_count": null,
   "metadata": {},
   "outputs": [],
   "source": [
    "from preprocessing.image_processing import reorder_images_in_folder\n",
    "\n",
    "target_folder = \"assets/Meshfleet_Eval/019d5adeba1cc38c1dbc550b0306d008272765d13c49dec2e08a4d1276c1cca1\"\n",
    "reorder_images_in_folder(target_folder, 6)"
   ]
  },
  {
   "cell_type": "markdown",
   "metadata": {},
   "source": [
    "## Viewpoint Alignment\n",
    "- Due to the front view detection it can happen that the viewpoints are swapped which leads to the vehicle being \"rotated\" in the wrong direction\n",
    "- With this function the user can swap the direction of the rotation by swapping the images"
   ]
  },
  {
   "cell_type": "code",
   "execution_count": null,
   "metadata": {},
   "outputs": [],
   "source": [
    "from preprocessing.image_processing import restructure_images\n",
    "restructure_images(\"example_data/Meshfleet_Eval/Results_002\")"
   ]
  }
 ],
 "metadata": {
  "kernelspec": {
   "display_name": "Quality_venv",
   "language": "python",
   "name": "python3"
  },
  "language_info": {
   "codemirror_mode": {
    "name": "ipython",
    "version": 3
   },
   "file_extension": ".py",
   "mimetype": "text/x-python",
   "name": "python",
   "nbconvert_exporter": "python",
   "pygments_lexer": "ipython3",
   "version": "3.11.8"
  }
 },
 "nbformat": 4,
 "nbformat_minor": 2
}
