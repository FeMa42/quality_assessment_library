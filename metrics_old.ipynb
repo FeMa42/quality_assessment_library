{
 "cells": [
  {
   "cell_type": "markdown",
   "id": "d8e10350",
   "metadata": {},
   "source": [
    "## Compute Metrics for one folder pair"
   ]
  },
  {
   "cell_type": "code",
   "execution_count": null,
   "id": "e97863b0",
   "metadata": {},
   "outputs": [],
   "source": [
    "import logging\n",
    "logging.getLogger().setLevel(logging.ERROR)\n",
    "import os \n",
    "import glob\n",
    "from PIL import Image\n",
    "from typing import List, Optional, Union\n",
    "import numpy as np\n",
    "import torch\n",
    "from metrics.metrics_old import Metrics, GeometryMetrics\n",
    "from metrics.helpers import preprocess_image, preprocess_image_rgba, process_folder_new\n",
    "import json\n",
    "import pandas as pd\n",
    "\n",
    "device = \"cuda\" if torch.cuda.is_available() else \"cpu\""
   ]
  },
  {
   "cell_type": "code",
   "execution_count": null,
   "id": "e29bb576",
   "metadata": {},
   "outputs": [],
   "source": [
    "original_folder = \"example_data/examples_08082025/Car_Sample_1/original\"\n",
    "generated_folder = \"example_data/examples_08082025/Car_Sample_1/generated_side\""
   ]
  },
  {
   "cell_type": "markdown",
   "id": "a5292a34",
   "metadata": {},
   "source": [
    "### Compute Semantic/Quality Metrics\n",
    "- For evaluations with very small sample size (n<20), set *compute_distribution_metrics = False* as FID & KID require a minimum of 20 samples to be computed"
   ]
  },
  {
   "cell_type": "code",
   "execution_count": null,
   "id": "eec77ca4",
   "metadata": {},
   "outputs": [],
   "source": [
    "semantic_metrics = process_folder_new(\n",
    "    original_folder=original_folder,\n",
    "    generated_folder=generated_folder,\n",
    "    preprocess_func=preprocess_image,  \n",
    "    metric_class=Metrics,\n",
    "    device=\"cuda\",  \n",
    "    compute_distribution_metrics=False  \n",
    ")\n",
    "print(\"Semantic Metrics:\")\n",
    "for k, v in semantic_metrics.items():\n",
    "    print(f\"{k}: {v}\")"
   ]
  },
  {
   "cell_type": "markdown",
   "id": "13270279",
   "metadata": {},
   "source": [
    "### Compute Geometric Evaluation Metrics"
   ]
  },
  {
   "cell_type": "code",
   "execution_count": null,
   "id": "b85c8ea0",
   "metadata": {},
   "outputs": [],
   "source": [
    "# For geometry metrics:\n",
    "geometry_metrics = process_folder_new(\n",
    "    original_folder=original_folder,\n",
    "    generated_folder=generated_folder,\n",
    "    preprocess_func=preprocess_image_rgba,  \n",
    "    metric_class=GeometryMetrics,\n",
    "    num_points=100\n",
    ")\n",
    "print(\"Geometry Metrics:\")\n",
    "for k, v in geometry_metrics.items():\n",
    "    print(f\"{k}: {v}\")"
   ]
  },
  {
   "cell_type": "markdown",
   "id": "e756db20",
   "metadata": {},
   "source": [
    "## Compute Metrics for multiple combinations"
   ]
  },
  {
   "cell_type": "code",
   "execution_count": null,
   "id": "21ef9dda",
   "metadata": {},
   "outputs": [],
   "source": [
    "from metrics.metrics_eval_old import process_metrics_by_viewpoint, tensor_to_serializable, json_file_to_combined_table"
   ]
  },
  {
   "cell_type": "markdown",
   "id": "13a3cc4d",
   "metadata": {},
   "source": [
    "### Compute Metrics for a subfolder"
   ]
  },
  {
   "cell_type": "code",
   "execution_count": null,
   "id": "dc084814",
   "metadata": {},
   "outputs": [],
   "source": [
    "gt_folder = \"example_data/Meshfleet_Eval/GT_test\"\n",
    "gen_folder = \"example_data/Meshfleet_Eval/Results_Test\"\n",
    "\n",
    "metrics_result = process_metrics_by_viewpoint(gt_folder, gen_folder, device=\"cuda\")\n",
    "json_output = json.dumps(tensor_to_serializable(metrics_result), indent=4)\n",
    "\n",
    "# Save the results in a JSON file in the root folder.\n",
    "output_file = os.path.join(os.path.dirname(gt_folder), \"metrics_results_001_test.json\")\n",
    "with open(output_file, 'w') as f:\n",
    "    f.write(json_output)\n",
    "\n",
    "print(f\"Metrics saved to {output_file}\")"
   ]
  },
  {
   "cell_type": "markdown",
   "id": "691872e8",
   "metadata": {},
   "source": [
    "### Print metrics from json into a table"
   ]
  },
  {
   "cell_type": "code",
   "execution_count": null,
   "id": "37772cf9",
   "metadata": {},
   "outputs": [],
   "source": [
    "json_filepath = \"example_data/Meshfleet_Eval/metrics_results_diagonal1.json\"\n",
    "combined_df = json_file_to_combined_table(json_filepath)\n",
    "\n",
    "print(\"Combined Metrics Table:\")\n",
    "print(combined_df.to_string())\n"
   ]
  }
 ],
 "metadata": {
  "kernelspec": {
   "display_name": "Quality_venv",
   "language": "python",
   "name": "python3"
  },
  "language_info": {
   "codemirror_mode": {
    "name": "ipython",
    "version": 3
   },
   "file_extension": ".py",
   "mimetype": "text/x-python",
   "name": "python",
   "nbconvert_exporter": "python",
   "pygments_lexer": "ipython3",
   "version": "3.11.8"
  }
 },
 "nbformat": 4,
 "nbformat_minor": 5
}
