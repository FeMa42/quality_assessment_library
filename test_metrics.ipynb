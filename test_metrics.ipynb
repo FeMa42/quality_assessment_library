{
 "cells": [
  {
   "cell_type": "markdown",
   "metadata": {},
   "source": [
    "# General Metrics"
   ]
  },
  {
   "cell_type": "code",
   "execution_count": null,
   "metadata": {},
   "outputs": [],
   "source": [
    "import os \n",
    "import glob\n",
    "import PIL.Image\n",
    "from typing import List, Optional, Union\n",
    "import numpy as np\n",
    "import torch\n",
    "from metrics import Metrics, preprocess_image\n",
    "\n",
    "device = \"cpu\"\n",
    "test_image_dir = \"example_data/2c21b97ff3dc4fc3b1ef9e4bb0164318\"\n",
    "\n",
    "def load_images_from_dir(image_dir: str):\n",
    "    all_images = glob.glob(os.path.join(image_dir, \"*.png\"))\n",
    "    all_images = [preprocess_image(PIL.Image.open(image)) for image in all_images]\n",
    "    torch_image_tensor = torch.tensor(np.array(all_images), dtype=torch.float32)\n",
    "    # (num_frames, channels, height, width)\n",
    "    torch_image_tensor = torch_image_tensor.permute(0, 3, 1, 2)\n",
    "    target = torch_image_tensor.to(device)\n",
    "    return target"
   ]
  },
  {
   "cell_type": "code",
   "execution_count": null,
   "metadata": {},
   "outputs": [],
   "source": [
    "metrics = Metrics(device=device)\n",
    "target = load_images_from_dir(test_image_dir)"
   ]
  },
  {
   "cell_type": "code",
   "execution_count": null,
   "metadata": {},
   "outputs": [],
   "source": [
    "for i in range(10):\n",
    "    input = target + torch.randn_like(target) * 0.001\n",
    "    input = torch.clamp(input, 0, 1).to(device)\n",
    "    metrics.compute_image(input, target)\n",
    "metrics.get_total_metrics()"
   ]
  },
  {
   "cell_type": "markdown",
   "metadata": {},
   "source": [
    "# Car Quality Metrics"
   ]
  },
  {
   "cell_type": "code",
   "execution_count": 1,
   "metadata": {},
   "outputs": [],
   "source": [
    "import os\n",
    "import glob\n",
    "import PIL.Image\n",
    "import numpy as np\n",
    "import torch\n",
    "from car_quality_estimator.car_quality_metric import load_car_quality_score\n",
    "\n",
    "test_image_dir = \"example_data/2c21b97ff3dc4fc3b1ef9e4bb0164318\"\n",
    "# load_car_quality_score(model_dir=\"../models\", device=None, use_combined_embedding_model=False)\n",
    "car_quality_metric = load_car_quality_score(\n",
    "    model_dir=\"./models/\", use_combined_embedding_model=True)"
   ]
  },
  {
   "cell_type": "code",
   "execution_count": 2,
   "metadata": {},
   "outputs": [],
   "source": [
    "all_images = glob.glob(os.path.join(test_image_dir, \"*.png\"))\n",
    "all_images = [PIL.Image.open(image).convert(\"RGB\") for image in all_images]\n",
    "reference_batch = all_images\n",
    "# reference_batch = [all_images[i:i+4] for i in range(0, len(all_images), 4)]\n",
    "all_images_np = np.array(all_images) / 255.0\n",
    "all_images_distorted_np  = all_images_np + np.random.randn(*all_images_np.shape) * 0.0005\n",
    "all_images_distorted_np = np.clip(all_images_distorted_np, 0, 1)\n",
    "all_images_distorted_pil = [PIL.Image.fromarray((img * 255).astype(np.uint8)) for img in all_images_distorted_np]\n",
    "generated_views = all_images_distorted_pil"
   ]
  },
  {
   "cell_type": "code",
   "execution_count": 3,
   "metadata": {},
   "outputs": [
    {
     "name": "stdout",
     "output_type": "stream",
     "text": [
      "Computing quality scores for generated models...\n"
     ]
    },
    {
     "data": {
      "text/plain": [
       "{'avg_quality_score': 0.15858957,\n",
       " 'avg_entropy': 0.11579005,\n",
       " 'avg_combined_score': 0.13669631,\n",
       " 'quality_std': 0.31417063,\n",
       " 'num_samples': 21}"
      ]
     },
     "execution_count": 3,
     "metadata": {},
     "output_type": "execute_result"
    }
   ],
   "source": [
    "car_quality_metric.compute_scores_no_reference(generated_views)"
   ]
  },
  {
   "cell_type": "code",
   "execution_count": 4,
   "metadata": {},
   "outputs": [
    {
     "name": "stdout",
     "output_type": "stream",
     "text": [
      "Generating embeddings for generated models...\n",
      "Generating embeddings for reference models...\n",
      "Computing quality scores for generated models...\n",
      "Computing quality scores for reference models...\n"
     ]
    },
    {
     "data": {
      "text/plain": [
       "{'generated_metrics': {'avg_quality_score': 0.15668477,\n",
       "  'avg_entropy': 0.119968355,\n",
       "  'avg_combined_score': 0.1348948,\n",
       "  'quality_std': 0.30946776,\n",
       "  'num_samples': 21},\n",
       " 'reference_metrics': {'avg_quality_score': 0.19824842,\n",
       "  'avg_entropy': 0.07728706,\n",
       "  'avg_combined_score': 0.17999125,\n",
       "  'quality_std': 0.36979467,\n",
       "  'num_samples': 21},\n",
       " 'quality_gap': 0.041563645,\n",
       " 'score_distribution_metrics': {'kl_divergence_kde': -0.02978984316058639,\n",
       "  'jensen_shannon_distance': 0.37441153045043296,\n",
       "  'wasserstein_distance': 0.04853838673107496},\n",
       " 'kid_metrics': {'kid_score': 10802.275148809524,\n",
       "  'n_gen_samples': 21,\n",
       "  'n_ref_samples': 21}}"
      ]
     },
     "execution_count": 4,
     "metadata": {},
     "output_type": "execute_result"
    }
   ],
   "source": [
    "car_quality_metric.compare_with_reference(\n",
    "    generated_views, reference_batch, compute_kid=True)"
   ]
  }
 ],
 "metadata": {
  "kernelspec": {
   "display_name": "vlm",
   "language": "python",
   "name": "python3"
  },
  "language_info": {
   "codemirror_mode": {
    "name": "ipython",
    "version": 3
   },
   "file_extension": ".py",
   "mimetype": "text/x-python",
   "name": "python",
   "nbconvert_exporter": "python",
   "pygments_lexer": "ipython3",
   "version": "3.10.14"
  }
 },
 "nbformat": 4,
 "nbformat_minor": 2
}
