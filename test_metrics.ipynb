{
 "cells": [
  {
   "cell_type": "code",
   "execution_count": 1,
   "metadata": {},
   "outputs": [
    {
     "name": "stderr",
     "output_type": "stream",
     "text": [
      "/mnt/damian/miniconda3/envs/qa_lib/lib/python3.10/site-packages/tqdm/auto.py:21: TqdmWarning: IProgress not found. Please update jupyter and ipywidgets. See https://ipywidgets.readthedocs.io/en/stable/user_install.html\n",
      "  from .autonotebook import tqdm as notebook_tqdm\n"
     ]
    }
   ],
   "source": [
    "import os \n",
    "import glob\n",
    "import PIL.Image\n",
    "from typing import List, Optional, Union\n",
    "import numpy as np\n",
    "import torch\n",
    "from metrics import Metrics, preprocess_image\n",
    "\n",
    "\n",
    "def load_images_from_dir(image_dir: str):\n",
    "    all_images = glob.glob(os.path.join(image_dir, \"*.png\"))\n",
    "    all_images = [preprocess_image(PIL.Image.open(image)) for image in all_images]\n",
    "    torch_image_tensor = torch.tensor(np.array(all_images), dtype=torch.float32)\n",
    "    # (num_frames, channels, height, width)\n",
    "    torch_image_tensor = torch_image_tensor.permute(0, 3, 1, 2)\n",
    "    target = torch_image_tensor.to(device)\n",
    "    return target"
   ]
  },
  {
   "cell_type": "code",
   "execution_count": 2,
   "metadata": {},
   "outputs": [
    {
     "name": "stderr",
     "output_type": "stream",
     "text": [
      "/mnt/damian/miniconda3/envs/qa_lib/lib/python3.10/site-packages/huggingface_hub/file_download.py:1132: FutureWarning: `resume_download` is deprecated and will be removed in version 1.0.0. Downloads always resume when possible. If you want to force a new download, use `force_download=True`.\n",
      "  warnings.warn(\n",
      "/mnt/damian/miniconda3/envs/qa_lib/lib/python3.10/site-packages/torchmetrics/utilities/prints.py:43: UserWarning: Metric `InceptionScore` will save all extracted features in buffer. For large datasets this may lead to large memory footprint.\n",
      "  warnings.warn(*args, **kwargs)  # noqa: B028\n",
      "/mnt/damian/miniconda3/envs/qa_lib/lib/python3.10/site-packages/torchmetrics/utilities/prints.py:43: UserWarning: Metric `Kernel Inception Distance` will save all extracted features in buffer. For large datasets this may lead to large memory footprint.\n",
      "  warnings.warn(*args, **kwargs)  # noqa: B028\n"
     ]
    }
   ],
   "source": [
    "device=\"cuda\"\n",
    "test_image_dir = \"data/2c21b97ff3dc4fc3b1ef9e4bb0164318\"\n",
    "\n",
    "metrics = Metrics(device=device)\n",
    "target = load_images_from_dir(test_image_dir)"
   ]
  },
  {
   "cell_type": "code",
   "execution_count": 3,
   "metadata": {},
   "outputs": [
    {
     "data": {
      "text/plain": [
       "{'MSE': tensor(233671.2344, device='cuda:0'),\n",
       " 'CLIP-S': tensor(0.6683, device='cuda:0'),\n",
       " 'Spectral_MSE': tensor(7.7526e+10, device='cuda:0'),\n",
       " 'D_lambda': tensor(47048708., device='cuda:0'),\n",
       " 'ERGAS': tensor(25.6390, device='cuda:0'),\n",
       " 'PSNR': tensor(0.4657, device='cuda:0'),\n",
       " 'RASE': tensor(6518.5981, device='cuda:0'),\n",
       " 'RMSE_wind': tensor(471.0640, device='cuda:0'),\n",
       " 'SAM': tensor(0.0358, device='cuda:0'),\n",
       " 'MS-SSIM': tensor(0.3656, device='cuda:0'),\n",
       " 'SSIM': tensor(0.0094, device='cuda:0'),\n",
       " 'UQI': tensor(0.0018, device='cuda:0'),\n",
       " 'VIF': tensor(0.0002, device='cuda:0'),\n",
       " 'LPIPS': tensor(0.6449, device='cuda:0'),\n",
       " 'SCC': tensor(0.0028, device='cuda:0'),\n",
       " 'FID': tensor(8.8580, device='cuda:0'),\n",
       " 'IS': tensor(0.1628, device='cuda:0'),\n",
       " 'KID': tensor(0.0418, device='cuda:0')}"
      ]
     },
     "execution_count": 3,
     "metadata": {},
     "output_type": "execute_result"
    }
   ],
   "source": [
    "for i in range(10):\n",
    "    input = target + torch.randn_like(target) * 0.001\n",
    "    input = torch.clamp(input, 0, 1).to(device)\n",
    "    metrics.compute_image(input, target)\n",
    "metrics.get_total_metrics()"
   ]
  }
 ],
 "metadata": {
  "kernelspec": {
   "display_name": "vlm",
   "language": "python",
   "name": "python3"
  },
  "language_info": {
   "codemirror_mode": {
    "name": "ipython",
    "version": 3
   },
   "file_extension": ".py",
   "mimetype": "text/x-python",
   "name": "python",
   "nbconvert_exporter": "python",
   "pygments_lexer": "ipython3",
   "version": "3.10.16"
  }
 },
 "nbformat": 4,
 "nbformat_minor": 2
}
