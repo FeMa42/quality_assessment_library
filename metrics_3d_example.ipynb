{
 "cells": [
  {
   "cell_type": "markdown",
   "metadata": {},
   "source": [
    "# Example: 3D Mesh Metrics Evaluation\n",
    "\n",
    "This notebook demonstrates how to use the `metrics_3d` package to evaluate 3D mesh metrics using MeshMetrics and your config file."
   ]
  },
  {
   "cell_type": "code",
   "execution_count": 1,
   "metadata": {},
   "outputs": [],
   "source": [
    "# Import the evaluation function\n",
    "from metrics_3d.metrics_eval import process_3d_metrics"
   ]
  },
  {
   "cell_type": "markdown",
   "metadata": {},
   "source": [
    "## Set up paths"
   ]
  },
  {
   "cell_type": "code",
   "execution_count": 2,
   "metadata": {},
   "outputs": [],
   "source": [
    "import os\n",
    "\n",
    "# Example data folders\n",
    "ground_truth_folder = os.path.abspath(\"./example_data/metrics_3d/Ground_Truth\")\n",
    "generated_folder = os.path.abspath(\"./example_data/metrics_3d/Comparison\")\n",
    "config_path = os.path.abspath(\"./config_small.json\")"
   ]
  },
  {
   "cell_type": "markdown",
   "metadata": {},
   "source": [
    "## Run 3D metrics evaluation"
   ]
  },
  {
   "cell_type": "code",
   "execution_count": 3,
   "metadata": {},
   "outputs": [
    {
     "name": "stdout",
     "output_type": "stream",
     "text": [
      "Computing metrics for: example_3d_ref_mesh.obj\n",
      "Successfully computed metrics for: example_3d_ref_mesh.obj\n",
      "Exported file c:\\Users\\rober\\Desktop\\Arbeit\\Hiwi\\quality_assessment_library\\example_data\\metrics_3d\\Ground_Truth\\exported_objects\\mesh.obj already exists, skipping export.\n",
      "Skipping mesh.glb: not a watertight mesh.\n",
      "Evaluation complete!\n"
     ]
    }
   ],
   "source": [
    "results = process_3d_metrics(\n",
    "    ground_truth_folder=ground_truth_folder,\n",
    "    generated_folder=generated_folder,\n",
    "    config_path=config_path\n",
    ")\n",
    "print(\"Evaluation complete!\")"
   ]
  },
  {
   "cell_type": "markdown",
   "metadata": {},
   "source": [
    "## Show results"
   ]
  },
  {
   "cell_type": "code",
   "execution_count": 4,
   "metadata": {},
   "outputs": [
    {
     "name": "stdout",
     "output_type": "stream",
     "text": [
      "{'overall_3d_metrics': {'ASSD': 1.0964651504117141e-15,\n",
      "                        'BIoU': 1.0,\n",
      "                        'Hausdorff': 5.102196573270515e-15,\n",
      "                        'Hausdorff_Percentile': 4.070144838902081e-15,\n",
      "                        'MASD': 1.0964651504117141e-15,\n",
      "                        'NSD': 1.0},\n",
      " 'per_object': {'example_3d_ref_mesh.obj': {'ASSD': 1.0964651504117141e-15,\n",
      "                                            'BIoU': 1.0,\n",
      "                                            'Hausdorff': 5.102196573270515e-15,\n",
      "                                            'Hausdorff_Percentile': 4.070144838902081e-15,\n",
      "                                            'MASD': 1.0964651504117141e-15,\n",
      "                                            'NSD': 1.0}}}\n"
     ]
    }
   ],
   "source": [
    "import json\n",
    "from pprint import pprint\n",
    "\n",
    "# Pretty print results\n",
    "pprint(results)\n",
    "\n",
    "# Optionally, save to a JSON file as can be seen here:\n",
    "with open(\"metrics_3d_results.json\", \"w\") as f:\n",
    "    json.dump(results, f, indent=2)"
   ]
  }
 ],
 "metadata": {
  "kernelspec": {
   "display_name": "Python 3",
   "language": "python",
   "name": "python3"
  },
  "language_info": {
   "codemirror_mode": {
    "name": "ipython",
    "version": 3
   },
   "file_extension": ".py",
   "mimetype": "text/x-python",
   "name": "python",
   "nbconvert_exporter": "python",
   "pygments_lexer": "ipython3",
   "version": "3.11.4"
  }
 },
 "nbformat": 4,
 "nbformat_minor": 2
}
