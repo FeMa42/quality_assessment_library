{
 "cells": [
  {
   "cell_type": "markdown",
   "metadata": {},
   "source": [
    "# Example: 3D Mesh Metrics Evaluation\n",
    "\n",
    "This notebook demonstrates how to use the `metrics_3d` package to evaluate 3D mesh metrics using MeshMetrics and your config file."
   ]
  },
  {
   "cell_type": "code",
   "execution_count": 1,
   "metadata": {},
   "outputs": [],
   "source": [
    "# Import the evaluation function\n",
    "from metrics_3d.metrics_eval import process_3d_metrics"
   ]
  },
  {
   "cell_type": "markdown",
   "metadata": {},
   "source": [
    "## Set up paths"
   ]
  },
  {
   "cell_type": "code",
   "execution_count": 2,
   "metadata": {},
   "outputs": [],
   "source": [
    "import os\n",
    "\n",
    "# Example data folders\n",
    "ground_truth_folder = os.path.abspath(\"./example_data/metrics_3d/Ground_Truth\")\n",
    "generated_folder = os.path.abspath(\"./example_data/metrics_3d/Comparison\")\n",
    "config_path = os.path.abspath(\"./config_small.json\")"
   ]
  },
  {
   "cell_type": "markdown",
   "metadata": {},
   "source": [
    "## Run 3D metrics evaluation"
   ]
  },
  {
   "cell_type": "code",
   "execution_count": 3,
   "metadata": {},
   "outputs": [
    {
     "data": {
      "application/vnd.jupyter.widget-view+json": {
       "model_id": "6564f46dd4f441df80a703abb97bb362",
       "version_major": 2,
       "version_minor": 0
      },
      "text/plain": [
       "Processing meshes:   0%|          | 0/2 [00:00<?, ?file/s]"
      ]
     },
     "metadata": {},
     "output_type": "display_data"
    },
    {
     "name": "stdout",
     "output_type": "stream",
     "text": [
      "Computing metrics for: example_3d_ref_mesh.obj\n",
      "\t Metrics computation success: True for: example_3d_ref_mesh.obj\n",
      "Computing metrics for: mesh.glb\n",
      "\t [Warning] c:\\Users\\rober\\Desktop\\Arbeit\\Hiwi\\quality_assessment_library\\example_data\\metrics_3d\\Comparison\\mesh.glb: Mesh is not watertight, attempting to clean it.\n",
      "\t watertight after cleaning: False\n",
      "\t [Warning] c:\\Users\\rober\\Desktop\\Arbeit\\Hiwi\\quality_assessment_library\\example_data\\metrics_3d\\Comparison\\mesh.glb: Not watertight after trying to repair -> No Comparison possible.\n",
      "\t Metrics computation success: False for: mesh.glb\n",
      "Evaluation Complete!\n"
     ]
    }
   ],
   "source": [
    "results = process_3d_metrics(\n",
    "    ground_truth_folder=ground_truth_folder,\n",
    "    generated_folder=generated_folder,\n",
    "    config_path=config_path,\n",
    "    logging=True,\n",
    ")\n",
    "print(\"Evaluation Complete!\")"
   ]
  },
  {
   "cell_type": "code",
   "execution_count": 4,
   "metadata": {},
   "outputs": [
    {
     "data": {
      "application/vnd.jupyter.widget-view+json": {
       "model_id": "c95fa57630f04060ad27680909168c4f",
       "version_major": 2,
       "version_minor": 0
      },
      "text/plain": [
       "  0%|          | 0/100 [00:00<?, ?it/s]"
      ]
     },
     "metadata": {},
     "output_type": "display_data"
    },
    {
     "name": "stdout",
     "output_type": "stream",
     "text": [
      "0\n",
      "1\n",
      "2\n",
      "3\n",
      "4\n",
      "5\n",
      "6\n",
      "7\n",
      "8\n",
      "9\n",
      "10\n",
      "11\n",
      "12\n",
      "13\n",
      "14\n",
      "15\n",
      "16\n",
      "17\n",
      "18\n",
      "19\n",
      "20\n",
      "21\n",
      "22\n",
      "23\n",
      "24\n",
      "25\n",
      "26\n",
      "27\n",
      "28\n",
      "29\n",
      "30\n",
      "31\n",
      "32\n",
      "33\n",
      "34\n",
      "35\n",
      "36\n",
      "37\n",
      "38\n",
      "39\n",
      "40\n",
      "41\n",
      "42\n",
      "43\n",
      "44\n",
      "45\n",
      "46\n",
      "47\n",
      "48\n",
      "49\n",
      "50\n",
      "51\n",
      "52\n",
      "53\n",
      "54\n",
      "55\n",
      "56\n",
      "57\n",
      "58\n",
      "59\n",
      "60\n",
      "61\n",
      "62\n",
      "63\n",
      "64\n",
      "65\n",
      "66\n",
      "67\n",
      "68\n",
      "69\n",
      "70\n",
      "71\n",
      "72\n",
      "73\n",
      "74\n",
      "75\n",
      "76\n",
      "77\n",
      "78\n",
      "79\n",
      "80\n",
      "81\n",
      "82\n",
      "83\n",
      "84\n",
      "85\n",
      "86\n",
      "87\n",
      "88\n",
      "89\n",
      "90\n",
      "91\n",
      "92\n",
      "93\n",
      "94\n",
      "95\n",
      "96\n",
      "97\n",
      "98\n",
      "99\n"
     ]
    }
   ],
   "source": [
    "from tqdm.notebook import tqdm\n",
    "\n",
    "for i in tqdm(range(100)):\n",
    "    tqdm.write(str(i))"
   ]
  },
  {
   "cell_type": "markdown",
   "metadata": {},
   "source": [
    "## Show results"
   ]
  },
  {
   "cell_type": "code",
   "execution_count": 5,
   "metadata": {},
   "outputs": [
    {
     "name": "stdout",
     "output_type": "stream",
     "text": [
      "{'overall_3d_metrics': {'ASSD': 1.0964651504117141e-15,\n",
      "                        'BIoU': 1.0,\n",
      "                        'Hausdorff': 5.102196573270515e-15,\n",
      "                        'Hausdorff_Percentile': 4.070144838902081e-15,\n",
      "                        'MASD': 1.0964651504117141e-15,\n",
      "                        'NSD': 1.0},\n",
      " 'per_object': {'example_3d_ref_mesh.obj': {'ASSD': 1.0964651504117141e-15,\n",
      "                                            'BIoU': 1.0,\n",
      "                                            'Hausdorff': 5.102196573270515e-15,\n",
      "                                            'Hausdorff_Percentile': 4.070144838902081e-15,\n",
      "                                            'MASD': 1.0964651504117141e-15,\n",
      "                                            'NSD': 1.0},\n",
      "                'mesh.glb': {'ASSD': None,\n",
      "                             'BIoU': None,\n",
      "                             'Hausdorff': None,\n",
      "                             'Hausdorff_Percentile': None,\n",
      "                             'MASD': None,\n",
      "                             'NSD': None}}}\n"
     ]
    }
   ],
   "source": [
    "import json\n",
    "from pprint import pprint\n",
    "\n",
    "# Pretty print results\n",
    "pprint(results)\n",
    "\n",
    "# Optionally, save to a JSON file as can be seen here:\n",
    "with open(\"metrics_3d_results.json\", \"w\") as f:\n",
    "    json.dump(results, f, indent=2)"
   ]
  }
 ],
 "metadata": {
  "kernelspec": {
   "display_name": "Python 3",
   "language": "python",
   "name": "python3"
  },
  "language_info": {
   "codemirror_mode": {
    "name": "ipython",
    "version": 3
   },
   "file_extension": ".py",
   "mimetype": "text/x-python",
   "name": "python",
   "nbconvert_exporter": "python",
   "pygments_lexer": "ipython3",
   "version": "3.11.4"
  }
 },
 "nbformat": 4,
 "nbformat_minor": 2
}
